{
 "cells": [
  {
   "cell_type": "code",
   "execution_count": 32,
   "metadata": {},
   "outputs": [],
   "source": [
    "import triangle\n",
    "import numpy as np\n",
    "import meshplot as mp\n",
    "import meshio"
   ]
  },
  {
   "cell_type": "code",
   "execution_count": 33,
   "metadata": {},
   "outputs": [],
   "source": [
    "r0 = 0.5\n",
    "r2 = 0.52\n",
    "n = 100\n",
    "\n",
    "theta = np.linspace(0, 2*np.pi, n, endpoint=False)\n",
    "V = np.array([np.cos(theta), np.sin(theta)]).T\n",
    "V = np.vstack([r0*V, r2*V])\n",
    "\n",
    "E = np.array([[i, (i+1)%len(theta)] for i in range(len(theta))])\n",
    "E = np.vstack([E, E+len(theta)])\n",
    "\n",
    "out = triangle.triangulate({'vertices': V, 'segments': E, 'holes': [[0, 0]]}, 'pqa0.01')\n",
    "\n",
    "V = out['vertices']\n",
    "F = out['triangles']"
   ]
  },
  {
   "cell_type": "code",
   "execution_count": 34,
   "metadata": {},
   "outputs": [
    {
     "data": {
      "application/vnd.jupyter.widget-view+json": {
       "model_id": "ae1699e678124f9d965330984af69b62",
       "version_major": 2,
       "version_minor": 0
      },
      "text/plain": [
       "Renderer(camera=PerspectiveCamera(children=(DirectionalLight(color='white', intensity=0.6, position=(0.0, 0.0,…"
      ]
     },
     "metadata": {},
     "output_type": "display_data"
    },
    {
     "data": {
      "text/plain": [
       "<meshplot.Viewer.Viewer at 0x12cc43710>"
      ]
     },
     "execution_count": 34,
     "metadata": {},
     "output_type": "execute_result"
    }
   ],
   "source": [
    "mp.plot(V, F, shading={\"wireframe\": True})"
   ]
  },
  {
   "cell_type": "code",
   "execution_count": 35,
   "metadata": {},
   "outputs": [],
   "source": [
    "meshio.write(\"annulus.msh\", meshio.Mesh(V, {\"triangle\": F}), file_format=\"gmsh\")"
   ]
  },
  {
   "cell_type": "code",
   "execution_count": null,
   "metadata": {},
   "outputs": [],
   "source": []
  }
 ],
 "metadata": {
  "kernelspec": {
   "display_name": "Python 3",
   "language": "python",
   "name": "python3"
  },
  "language_info": {
   "codemirror_mode": {
    "name": "ipython",
    "version": 3
   },
   "file_extension": ".py",
   "mimetype": "text/x-python",
   "name": "python",
   "nbconvert_exporter": "python",
   "pygments_lexer": "ipython3",
   "version": "3.11.4"
  },
  "orig_nbformat": 4
 },
 "nbformat": 4,
 "nbformat_minor": 2
}
